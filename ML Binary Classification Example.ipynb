{
 "cells": [
  {
   "cell_type": "markdown",
   "id": "ae98c983-9472-496e-8343-ff90dedb3d1b",
   "metadata": {},
   "source": [
    "# Load Required Packages"
   ]
  },
  {
   "cell_type": "code",
   "execution_count": 19,
   "id": "1a3b9643-f3d2-49d9-9394-daf6bc4f6165",
   "metadata": {},
   "outputs": [],
   "source": [
    "import numpy as np\n",
    "import pandas as pd\n",
    "\n",
    "from sklearn.datasets import fetch_openml\n",
    "from sklearn.model_selection import train_test_split\n",
    "from sklearn.preprocessing import OneHotEncoder, StandardScaler\n",
    "from sklearn.compose import ColumnTransformer\n",
    "from sklearn.pipeline import Pipeline\n",
    "from sklearn.linear_model import LogisticRegression\n",
    "from sklearn.ensemble import RandomForestClassifier\n",
    "\n",
    "from interpret.glassbox import ExplainableBoostingClassifier\n",
    "\n",
    "import plotly.express as px\n",
    "import plotly.graph_objects as go\n",
    "import plotly.io as pio  # To render Plotly plots in GitHub\n",
    "from IPython.display import Image\n",
    "from IPython.display import display, Markdown\n",
    "\n",
    "from gains import gains\n",
    "\n",
    "import session_info"
   ]
  },
  {
   "cell_type": "markdown",
   "id": "abda17a7-4944-44c4-86ff-241d86fe1339",
   "metadata": {},
   "source": [
    "# Import and Prep Data"
   ]
  },
  {
   "cell_type": "code",
   "execution_count": 2,
   "id": "58ceba96-fdfc-49ac-8f7c-c2ac20374243",
   "metadata": {
    "tags": []
   },
   "outputs": [
    {
     "data": {
      "text/html": [
       "<div>\n",
       "<style scoped>\n",
       "    .dataframe tbody tr th:only-of-type {\n",
       "        vertical-align: middle;\n",
       "    }\n",
       "\n",
       "    .dataframe tbody tr th {\n",
       "        vertical-align: top;\n",
       "    }\n",
       "\n",
       "    .dataframe thead th {\n",
       "        text-align: right;\n",
       "    }\n",
       "</style>\n",
       "<table border=\"1\" class=\"dataframe\">\n",
       "  <thead>\n",
       "    <tr style=\"text-align: right;\">\n",
       "      <th></th>\n",
       "      <th>Churn</th>\n",
       "      <th>Gender</th>\n",
       "      <th>Senior Citizen</th>\n",
       "      <th>Partner</th>\n",
       "      <th>Dependents</th>\n",
       "      <th>Tenure</th>\n",
       "      <th>Phone Service</th>\n",
       "      <th>Multiple Lines</th>\n",
       "      <th>Internet Service</th>\n",
       "      <th>Online Security</th>\n",
       "      <th>Online Backup</th>\n",
       "      <th>Device Protection</th>\n",
       "      <th>Tech Support</th>\n",
       "      <th>Streaming TV</th>\n",
       "      <th>Streaming Movies</th>\n",
       "      <th>Contract</th>\n",
       "      <th>Paperless Billing</th>\n",
       "      <th>Payment Method</th>\n",
       "      <th>Monthly Charges</th>\n",
       "      <th>Total Charges</th>\n",
       "    </tr>\n",
       "  </thead>\n",
       "  <tbody>\n",
       "    <tr>\n",
       "      <th>0</th>\n",
       "      <td>No</td>\n",
       "      <td>Female</td>\n",
       "      <td>No</td>\n",
       "      <td>Yes</td>\n",
       "      <td>No</td>\n",
       "      <td>1</td>\n",
       "      <td>No</td>\n",
       "      <td>'No phone service'</td>\n",
       "      <td>DSL</td>\n",
       "      <td>No</td>\n",
       "      <td>Yes</td>\n",
       "      <td>No</td>\n",
       "      <td>No</td>\n",
       "      <td>No</td>\n",
       "      <td>No</td>\n",
       "      <td>Month-to-month</td>\n",
       "      <td>Yes</td>\n",
       "      <td>'Electronic check'</td>\n",
       "      <td>29.85</td>\n",
       "      <td>29.85</td>\n",
       "    </tr>\n",
       "    <tr>\n",
       "      <th>1</th>\n",
       "      <td>No</td>\n",
       "      <td>Male</td>\n",
       "      <td>No</td>\n",
       "      <td>No</td>\n",
       "      <td>No</td>\n",
       "      <td>34</td>\n",
       "      <td>Yes</td>\n",
       "      <td>No</td>\n",
       "      <td>DSL</td>\n",
       "      <td>Yes</td>\n",
       "      <td>No</td>\n",
       "      <td>Yes</td>\n",
       "      <td>No</td>\n",
       "      <td>No</td>\n",
       "      <td>No</td>\n",
       "      <td>'One year'</td>\n",
       "      <td>No</td>\n",
       "      <td>'Mailed check'</td>\n",
       "      <td>56.95</td>\n",
       "      <td>1889.50</td>\n",
       "    </tr>\n",
       "    <tr>\n",
       "      <th>2</th>\n",
       "      <td>Yes</td>\n",
       "      <td>Male</td>\n",
       "      <td>No</td>\n",
       "      <td>No</td>\n",
       "      <td>No</td>\n",
       "      <td>2</td>\n",
       "      <td>Yes</td>\n",
       "      <td>No</td>\n",
       "      <td>DSL</td>\n",
       "      <td>Yes</td>\n",
       "      <td>Yes</td>\n",
       "      <td>No</td>\n",
       "      <td>No</td>\n",
       "      <td>No</td>\n",
       "      <td>No</td>\n",
       "      <td>Month-to-month</td>\n",
       "      <td>Yes</td>\n",
       "      <td>'Mailed check'</td>\n",
       "      <td>53.85</td>\n",
       "      <td>108.15</td>\n",
       "    </tr>\n",
       "    <tr>\n",
       "      <th>3</th>\n",
       "      <td>No</td>\n",
       "      <td>Male</td>\n",
       "      <td>No</td>\n",
       "      <td>No</td>\n",
       "      <td>No</td>\n",
       "      <td>45</td>\n",
       "      <td>No</td>\n",
       "      <td>'No phone service'</td>\n",
       "      <td>DSL</td>\n",
       "      <td>Yes</td>\n",
       "      <td>No</td>\n",
       "      <td>Yes</td>\n",
       "      <td>Yes</td>\n",
       "      <td>No</td>\n",
       "      <td>No</td>\n",
       "      <td>'One year'</td>\n",
       "      <td>No</td>\n",
       "      <td>'Bank transfer (automatic)'</td>\n",
       "      <td>42.30</td>\n",
       "      <td>1840.75</td>\n",
       "    </tr>\n",
       "    <tr>\n",
       "      <th>4</th>\n",
       "      <td>Yes</td>\n",
       "      <td>Female</td>\n",
       "      <td>No</td>\n",
       "      <td>No</td>\n",
       "      <td>No</td>\n",
       "      <td>2</td>\n",
       "      <td>Yes</td>\n",
       "      <td>No</td>\n",
       "      <td>'Fiber optic'</td>\n",
       "      <td>No</td>\n",
       "      <td>No</td>\n",
       "      <td>No</td>\n",
       "      <td>No</td>\n",
       "      <td>No</td>\n",
       "      <td>No</td>\n",
       "      <td>Month-to-month</td>\n",
       "      <td>Yes</td>\n",
       "      <td>'Electronic check'</td>\n",
       "      <td>70.70</td>\n",
       "      <td>151.65</td>\n",
       "    </tr>\n",
       "  </tbody>\n",
       "</table>\n",
       "</div>"
      ],
      "text/plain": [
       "  Churn  Gender Senior Citizen Partner Dependents  Tenure Phone Service  \\\n",
       "0    No  Female             No     Yes         No       1            No   \n",
       "1    No    Male             No      No         No      34           Yes   \n",
       "2   Yes    Male             No      No         No       2           Yes   \n",
       "3    No    Male             No      No         No      45            No   \n",
       "4   Yes  Female             No      No         No       2           Yes   \n",
       "\n",
       "       Multiple Lines Internet Service Online Security Online Backup  \\\n",
       "0  'No phone service'              DSL              No           Yes   \n",
       "1                  No              DSL             Yes            No   \n",
       "2                  No              DSL             Yes           Yes   \n",
       "3  'No phone service'              DSL             Yes            No   \n",
       "4                  No    'Fiber optic'              No            No   \n",
       "\n",
       "  Device Protection Tech Support Streaming TV Streaming Movies  \\\n",
       "0                No           No           No               No   \n",
       "1               Yes           No           No               No   \n",
       "2                No           No           No               No   \n",
       "3               Yes          Yes           No               No   \n",
       "4                No           No           No               No   \n",
       "\n",
       "         Contract Paperless Billing               Payment Method  \\\n",
       "0  Month-to-month               Yes           'Electronic check'   \n",
       "1      'One year'                No               'Mailed check'   \n",
       "2  Month-to-month               Yes               'Mailed check'   \n",
       "3      'One year'                No  'Bank transfer (automatic)'   \n",
       "4  Month-to-month               Yes           'Electronic check'   \n",
       "\n",
       "   Monthly Charges  Total Charges  \n",
       "0            29.85          29.85  \n",
       "1            56.95        1889.50  \n",
       "2            53.85         108.15  \n",
       "3            42.30        1840.75  \n",
       "4            70.70         151.65  "
      ]
     },
     "execution_count": 2,
     "metadata": {},
     "output_type": "execute_result"
    }
   ],
   "source": [
    "X, y = fetch_openml('telco-customer-churn', version=1, as_frame=True, return_X_y=True, parser='auto')\n",
    "\n",
    "total_df = pd.concat([pd.DataFrame(y), X], axis=1)\n",
    "\n",
    "del(X, y)\n",
    "\n",
    "total_df = total_df.rename(columns={'gender': 'Gender',\n",
    "                                    'SeniorCitizen': 'Senior Citizen',\n",
    "                                    'tenure': 'Tenure',\n",
    "                                    'PhoneService': 'Phone Service',\n",
    "                                    'MultipleLines': 'Multiple Lines',\n",
    "                                    'InternetService': 'Internet Service',\n",
    "                                    'OnlineSecurity': 'Online Security',\n",
    "                                    'OnlineBackup': 'Online Backup',\n",
    "                                    'DeviceProtection': 'Device Protection',\n",
    "                                    'TechSupport': 'Tech Support',\n",
    "                                    'StreamingTV': 'Streaming TV',\n",
    "                                    'StreamingMovies': 'Streaming Movies',\n",
    "                                    'PaperlessBilling': 'Paperless Billing',\n",
    "                                    'PaymentMethod': 'Payment Method',\n",
    "                                    'MonthlyCharges': 'Monthly Charges',\n",
    "                                    'TotalCharges': 'Total Charges'})\n",
    "\n",
    "total_df['Senior Citizen'] = np.where(total_df['Senior Citizen'] == 1, 'Yes', 'No')\n",
    "total_df['Total Charges'] = pd.to_numeric(total_df['Total Charges'], errors='coerce')\n",
    "total_df['Tenure'] = total_df['Tenure'].astype('int64')\n",
    "\n",
    "total_df.head()"
   ]
  },
  {
   "cell_type": "code",
   "execution_count": 3,
   "id": "f87e31a9-a178-4350-9749-16e5d69f0c6a",
   "metadata": {
    "tags": []
   },
   "outputs": [
    {
     "name": "stdout",
     "output_type": "stream",
     "text": [
      "<class 'pandas.core.frame.DataFrame'>\n",
      "RangeIndex: 7043 entries, 0 to 7042\n",
      "Data columns (total 20 columns):\n",
      " #   Column             Non-Null Count  Dtype  \n",
      "---  ------             --------------  -----  \n",
      " 0   Churn              7043 non-null   object \n",
      " 1   Gender             7043 non-null   object \n",
      " 2   Senior Citizen     7043 non-null   object \n",
      " 3   Partner            7043 non-null   object \n",
      " 4   Dependents         7043 non-null   object \n",
      " 5   Tenure             7043 non-null   int64  \n",
      " 6   Phone Service      7043 non-null   object \n",
      " 7   Multiple Lines     7043 non-null   object \n",
      " 8   Internet Service   7043 non-null   object \n",
      " 9   Online Security    7043 non-null   object \n",
      " 10  Online Backup      7043 non-null   object \n",
      " 11  Device Protection  7043 non-null   object \n",
      " 12  Tech Support       7043 non-null   object \n",
      " 13  Streaming TV       7043 non-null   object \n",
      " 14  Streaming Movies   7043 non-null   object \n",
      " 15  Contract           7043 non-null   object \n",
      " 16  Paperless Billing  7043 non-null   object \n",
      " 17  Payment Method     7043 non-null   object \n",
      " 18  Monthly Charges    7043 non-null   float64\n",
      " 19  Total Charges      7032 non-null   float64\n",
      "dtypes: float64(2), int64(1), object(17)\n",
      "memory usage: 1.1+ MB\n"
     ]
    }
   ],
   "source": [
    "total_df.info()"
   ]
  },
  {
   "cell_type": "code",
   "execution_count": 4,
   "id": "c4ff82c6-e63b-42db-a2dc-887923a9402f",
   "metadata": {
    "tags": []
   },
   "outputs": [
    {
     "data": {
      "text/plain": [
       "Binary Total Charges  Binary Tenure  Churn\n",
       "Not Missing           1+             No       5163\n",
       "                                     Yes      1869\n",
       "Missing               0              No         11\n",
       "Name: count, dtype: int64"
      ]
     },
     "execution_count": 4,
     "metadata": {},
     "output_type": "execute_result"
    }
   ],
   "source": [
    "# Investiate the 11 records with missing values for  `Total Charges`\n",
    "\n",
    "total_df['Binary Total Charges'] = np.where(total_df['Total Charges'].isna(), 'Missing', 'Not Missing')\n",
    "\n",
    "total_df['Binary Tenure'] = total_df['Tenure'].apply(lambda x: '1+' if x > 0 else ('0' if x == 0 else '<0'))\n",
    "\n",
    "total_df[['Binary Total Charges', 'Binary Tenure', 'Churn']].value_counts()"
   ]
  },
  {
   "cell_type": "code",
   "execution_count": 5,
   "id": "6fe616a9-f38f-41c7-908e-68e6786ef5c4",
   "metadata": {
    "tags": []
   },
   "outputs": [
    {
     "data": {
      "text/html": [
       "<div>\n",
       "<style scoped>\n",
       "    .dataframe tbody tr th:only-of-type {\n",
       "        vertical-align: middle;\n",
       "    }\n",
       "\n",
       "    .dataframe tbody tr th {\n",
       "        vertical-align: top;\n",
       "    }\n",
       "\n",
       "    .dataframe thead th {\n",
       "        text-align: right;\n",
       "    }\n",
       "</style>\n",
       "<table border=\"1\" class=\"dataframe\">\n",
       "  <thead>\n",
       "    <tr style=\"text-align: right;\">\n",
       "      <th></th>\n",
       "      <th>CustomerID</th>\n",
       "      <th>Churn</th>\n",
       "      <th>Gender</th>\n",
       "      <th>Senior Citizen</th>\n",
       "      <th>Partner</th>\n",
       "      <th>Dependents</th>\n",
       "      <th>Tenure</th>\n",
       "      <th>Phone Service</th>\n",
       "      <th>Multiple Lines</th>\n",
       "      <th>Internet Service</th>\n",
       "      <th>...</th>\n",
       "      <th>Online Backup</th>\n",
       "      <th>Device Protection</th>\n",
       "      <th>Tech Support</th>\n",
       "      <th>Streaming TV</th>\n",
       "      <th>Streaming Movies</th>\n",
       "      <th>Contract</th>\n",
       "      <th>Paperless Billing</th>\n",
       "      <th>Payment Method</th>\n",
       "      <th>Monthly Charges</th>\n",
       "      <th>Total Charges</th>\n",
       "    </tr>\n",
       "  </thead>\n",
       "  <tbody>\n",
       "    <tr>\n",
       "      <th>0</th>\n",
       "      <td>1</td>\n",
       "      <td>No</td>\n",
       "      <td>Female</td>\n",
       "      <td>No</td>\n",
       "      <td>Yes</td>\n",
       "      <td>No</td>\n",
       "      <td>1</td>\n",
       "      <td>No</td>\n",
       "      <td>'No phone service'</td>\n",
       "      <td>DSL</td>\n",
       "      <td>...</td>\n",
       "      <td>Yes</td>\n",
       "      <td>No</td>\n",
       "      <td>No</td>\n",
       "      <td>No</td>\n",
       "      <td>No</td>\n",
       "      <td>Month-to-month</td>\n",
       "      <td>Yes</td>\n",
       "      <td>'Electronic check'</td>\n",
       "      <td>29.85</td>\n",
       "      <td>29.85</td>\n",
       "    </tr>\n",
       "    <tr>\n",
       "      <th>1</th>\n",
       "      <td>2</td>\n",
       "      <td>No</td>\n",
       "      <td>Male</td>\n",
       "      <td>No</td>\n",
       "      <td>No</td>\n",
       "      <td>No</td>\n",
       "      <td>34</td>\n",
       "      <td>Yes</td>\n",
       "      <td>No</td>\n",
       "      <td>DSL</td>\n",
       "      <td>...</td>\n",
       "      <td>No</td>\n",
       "      <td>Yes</td>\n",
       "      <td>No</td>\n",
       "      <td>No</td>\n",
       "      <td>No</td>\n",
       "      <td>'One year'</td>\n",
       "      <td>No</td>\n",
       "      <td>'Mailed check'</td>\n",
       "      <td>56.95</td>\n",
       "      <td>1889.50</td>\n",
       "    </tr>\n",
       "    <tr>\n",
       "      <th>2</th>\n",
       "      <td>3</td>\n",
       "      <td>Yes</td>\n",
       "      <td>Male</td>\n",
       "      <td>No</td>\n",
       "      <td>No</td>\n",
       "      <td>No</td>\n",
       "      <td>2</td>\n",
       "      <td>Yes</td>\n",
       "      <td>No</td>\n",
       "      <td>DSL</td>\n",
       "      <td>...</td>\n",
       "      <td>Yes</td>\n",
       "      <td>No</td>\n",
       "      <td>No</td>\n",
       "      <td>No</td>\n",
       "      <td>No</td>\n",
       "      <td>Month-to-month</td>\n",
       "      <td>Yes</td>\n",
       "      <td>'Mailed check'</td>\n",
       "      <td>53.85</td>\n",
       "      <td>108.15</td>\n",
       "    </tr>\n",
       "    <tr>\n",
       "      <th>3</th>\n",
       "      <td>4</td>\n",
       "      <td>No</td>\n",
       "      <td>Male</td>\n",
       "      <td>No</td>\n",
       "      <td>No</td>\n",
       "      <td>No</td>\n",
       "      <td>45</td>\n",
       "      <td>No</td>\n",
       "      <td>'No phone service'</td>\n",
       "      <td>DSL</td>\n",
       "      <td>...</td>\n",
       "      <td>No</td>\n",
       "      <td>Yes</td>\n",
       "      <td>Yes</td>\n",
       "      <td>No</td>\n",
       "      <td>No</td>\n",
       "      <td>'One year'</td>\n",
       "      <td>No</td>\n",
       "      <td>'Bank transfer (automatic)'</td>\n",
       "      <td>42.30</td>\n",
       "      <td>1840.75</td>\n",
       "    </tr>\n",
       "    <tr>\n",
       "      <th>4</th>\n",
       "      <td>5</td>\n",
       "      <td>Yes</td>\n",
       "      <td>Female</td>\n",
       "      <td>No</td>\n",
       "      <td>No</td>\n",
       "      <td>No</td>\n",
       "      <td>2</td>\n",
       "      <td>Yes</td>\n",
       "      <td>No</td>\n",
       "      <td>'Fiber optic'</td>\n",
       "      <td>...</td>\n",
       "      <td>No</td>\n",
       "      <td>No</td>\n",
       "      <td>No</td>\n",
       "      <td>No</td>\n",
       "      <td>No</td>\n",
       "      <td>Month-to-month</td>\n",
       "      <td>Yes</td>\n",
       "      <td>'Electronic check'</td>\n",
       "      <td>70.70</td>\n",
       "      <td>151.65</td>\n",
       "    </tr>\n",
       "  </tbody>\n",
       "</table>\n",
       "<p>5 rows × 21 columns</p>\n",
       "</div>"
      ],
      "text/plain": [
       "   CustomerID Churn  Gender Senior Citizen Partner Dependents  Tenure  \\\n",
       "0           1    No  Female             No     Yes         No       1   \n",
       "1           2    No    Male             No      No         No      34   \n",
       "2           3   Yes    Male             No      No         No       2   \n",
       "3           4    No    Male             No      No         No      45   \n",
       "4           5   Yes  Female             No      No         No       2   \n",
       "\n",
       "  Phone Service      Multiple Lines Internet Service  ... Online Backup  \\\n",
       "0            No  'No phone service'              DSL  ...           Yes   \n",
       "1           Yes                  No              DSL  ...            No   \n",
       "2           Yes                  No              DSL  ...           Yes   \n",
       "3            No  'No phone service'              DSL  ...            No   \n",
       "4           Yes                  No    'Fiber optic'  ...            No   \n",
       "\n",
       "  Device Protection Tech Support Streaming TV Streaming Movies  \\\n",
       "0                No           No           No               No   \n",
       "1               Yes           No           No               No   \n",
       "2                No           No           No               No   \n",
       "3               Yes          Yes           No               No   \n",
       "4                No           No           No               No   \n",
       "\n",
       "         Contract Paperless Billing               Payment Method  \\\n",
       "0  Month-to-month               Yes           'Electronic check'   \n",
       "1      'One year'                No               'Mailed check'   \n",
       "2  Month-to-month               Yes               'Mailed check'   \n",
       "3      'One year'                No  'Bank transfer (automatic)'   \n",
       "4  Month-to-month               Yes           'Electronic check'   \n",
       "\n",
       "  Monthly Charges  Total Charges  \n",
       "0           29.85          29.85  \n",
       "1           56.95        1889.50  \n",
       "2           53.85         108.15  \n",
       "3           42.30        1840.75  \n",
       "4           70.70         151.65  \n",
       "\n",
       "[5 rows x 21 columns]"
      ]
     },
     "execution_count": 5,
     "metadata": {},
     "output_type": "execute_result"
    }
   ],
   "source": [
    "# Discard records with missing `Total Charges`\n",
    "total_df = total_df[~total_df['Total Charges'].isnull()].reset_index(drop=True)\n",
    "total_df.drop(columns=['Binary Total Charges', 'Binary Tenure'], inplace=True)\n",
    "\n",
    "# Create a unique identifier for each row\n",
    "total_df['CustomerID'] = total_df.index + 1\n",
    "total_df = total_df[ [ 'CustomerID'] + [col for col in total_df.columns if col != 'CustomerID']]\n",
    "\n",
    "total_df.head()"
   ]
  },
  {
   "cell_type": "code",
   "execution_count": 6,
   "id": "9d61af0b-9bbd-4fe2-842c-64c07e3a9039",
   "metadata": {
    "tags": []
   },
   "outputs": [
    {
     "name": "stdout",
     "output_type": "stream",
     "text": [
      "<class 'pandas.core.frame.DataFrame'>\n",
      "RangeIndex: 7032 entries, 0 to 7031\n",
      "Data columns (total 21 columns):\n",
      " #   Column             Non-Null Count  Dtype  \n",
      "---  ------             --------------  -----  \n",
      " 0   CustomerID         7032 non-null   int64  \n",
      " 1   Churn              7032 non-null   object \n",
      " 2   Gender             7032 non-null   object \n",
      " 3   Senior Citizen     7032 non-null   object \n",
      " 4   Partner            7032 non-null   object \n",
      " 5   Dependents         7032 non-null   object \n",
      " 6   Tenure             7032 non-null   int64  \n",
      " 7   Phone Service      7032 non-null   object \n",
      " 8   Multiple Lines     7032 non-null   object \n",
      " 9   Internet Service   7032 non-null   object \n",
      " 10  Online Security    7032 non-null   object \n",
      " 11  Online Backup      7032 non-null   object \n",
      " 12  Device Protection  7032 non-null   object \n",
      " 13  Tech Support       7032 non-null   object \n",
      " 14  Streaming TV       7032 non-null   object \n",
      " 15  Streaming Movies   7032 non-null   object \n",
      " 16  Contract           7032 non-null   object \n",
      " 17  Paperless Billing  7032 non-null   object \n",
      " 18  Payment Method     7032 non-null   object \n",
      " 19  Monthly Charges    7032 non-null   float64\n",
      " 20  Total Charges      7032 non-null   float64\n",
      "dtypes: float64(2), int64(2), object(17)\n",
      "memory usage: 1.1+ MB\n"
     ]
    }
   ],
   "source": [
    "total_df.info()"
   ]
  },
  {
   "cell_type": "markdown",
   "id": "cac2b104-da78-4b41-b1be-1a02b05f37fe",
   "metadata": {},
   "source": [
    "# Train/Test Split"
   ]
  },
  {
   "cell_type": "code",
   "execution_count": 7,
   "id": "6786629f-3dec-4adc-bd5f-24d8d2c236a6",
   "metadata": {
    "tags": []
   },
   "outputs": [
    {
     "name": "stdout",
     "output_type": "stream",
     "text": [
      "Train Sample:   # Rows = 5,274  Churn Rate = 26.6%\n",
      " Test Sample:   # Rows = 1,758  Churn Rate = 26.6%\n"
     ]
    }
   ],
   "source": [
    "# Using stratified random sampling\n",
    "\n",
    "train_df, test_df = train_test_split(total_df, train_size=0.75, stratify=total_df['Churn'], random_state=22)\n",
    "\n",
    "print(\"Train Sample:   # Rows = {:,}  Churn Rate = {:.1f}%\".format(train_df.shape[0], (train_df['Churn']=='Yes').mean()*100))\n",
    "print(\" Test Sample:   # Rows = {:,}  Churn Rate = {:.1f}%\".format(test_df.shape[0], (test_df['Churn']=='Yes').mean()*100))"
   ]
  },
  {
   "cell_type": "markdown",
   "id": "74703bf9-3bf1-43ea-82b1-9e3f58813945",
   "metadata": {},
   "source": [
    "# Fit Models"
   ]
  },
  {
   "cell_type": "code",
   "execution_count": 8,
   "id": "782af2e3-7129-448e-81d5-0ceeb6f6222b",
   "metadata": {
    "tags": []
   },
   "outputs": [
    {
     "name": "stdout",
     "output_type": "stream",
     "text": [
      "Number of Features: 19\n",
      "\n",
      "Feature Names: ['Gender', 'Senior Citizen', 'Partner', 'Dependents', 'Tenure', 'Phone Service', 'Multiple Lines', 'Internet Service', 'Online Security', 'Online Backup', 'Device Protection', 'Tech Support', 'Streaming TV', 'Streaming Movies', 'Contract', 'Paperless Billing', 'Payment Method', 'Monthly Charges', 'Total Charges']\n"
     ]
    }
   ],
   "source": [
    "features = [col for col in total_df.columns if col not in ['CustomerID', 'Churn']]\n",
    "\n",
    "print(f\"Number of Features: {len(features)}\")\n",
    "print(f\"\\nFeature Names: {features}\")"
   ]
  },
  {
   "cell_type": "code",
   "execution_count": 9,
   "id": "d89bf281-0c6f-4f45-a297-4e3df086ac7c",
   "metadata": {
    "tags": []
   },
   "outputs": [],
   "source": [
    "y_train = train_df['Churn']\n",
    "X_train = train_df[features]\n",
    "\n",
    "y_test = test_df['Churn']\n",
    "X_test = test_df[features]"
   ]
  },
  {
   "cell_type": "markdown",
   "id": "32936b73-9ed4-40eb-bc6b-f34089df7d22",
   "metadata": {},
   "source": [
    "## scikit-learn"
   ]
  },
  {
   "cell_type": "code",
   "execution_count": 10,
   "id": "164697c4-14c0-436d-a68d-50829b3e8682",
   "metadata": {
    "tags": []
   },
   "outputs": [
    {
     "name": "stdout",
     "output_type": "stream",
     "text": [
      "Categorical Features: ['Gender', 'Senior Citizen', 'Partner', 'Dependents', 'Phone Service', 'Multiple Lines', 'Internet Service', 'Online Security', 'Online Backup', 'Device Protection', 'Tech Support', 'Streaming TV', 'Streaming Movies', 'Contract', 'Paperless Billing', 'Payment Method']\n",
      "\n",
      "Numeric Features: ['Tenure', 'Monthly Charges', 'Total Charges']\n"
     ]
    }
   ],
   "source": [
    "categorical_features = list(total_df[features].select_dtypes(include='object').columns)\n",
    "\n",
    "numeric_features = list(total_df[features].select_dtypes(include=['float64', 'int64']).columns)\n",
    "\n",
    "\n",
    "print(f\"Categorical Features: {categorical_features}\")\n",
    "print(f\"\\nNumeric Features: {numeric_features}\")"
   ]
  },
  {
   "cell_type": "code",
   "execution_count": 11,
   "id": "b1f68fc6-ff33-4038-8b17-65189e516815",
   "metadata": {
    "tags": []
   },
   "outputs": [],
   "source": [
    "categorical_encoder = OneHotEncoder(handle_unknown='ignore')\n",
    "\n",
    "numeric_y_train = y_train.map({'Yes': 1, 'No': 0})\n",
    "numeric_y_test = y_test.map({'Yes': 1, 'No': 0})\n",
    "\n",
    "preprocessing = ColumnTransformer(\n",
    "    [\n",
    "        (\"cat\", categorical_encoder, categorical_features),\n",
    "        (\"scale\", StandardScaler(), numeric_features)\n",
    "    ]\n",
    ")\n",
    "\n",
    "lr_pipeline = Pipeline(\n",
    "    [\n",
    "        (\"preprocess\", preprocessing),\n",
    "        (\"classifier\", LogisticRegression(random_state=3006))\n",
    "    ]\n",
    ")\n",
    "\n",
    "rf_pipeline = Pipeline(\n",
    "    [\n",
    "        (\"preprocess\", preprocessing),\n",
    "        (\"classifier\", RandomForestClassifier(random_state=3006))\n",
    "    ]\n",
    ")\n",
    "\n",
    "lr_model = lr_pipeline.fit(X_train, numeric_y_train)\n",
    "rf_model = rf_pipeline.fit(X_train, numeric_y_train)"
   ]
  },
  {
   "cell_type": "markdown",
   "id": "facbc9c8-a13e-4aaa-8c4c-7a3c09b799e0",
   "metadata": {},
   "source": [
    "## Explainable Boosting Machine (EBM)"
   ]
  },
  {
   "cell_type": "code",
   "execution_count": 12,
   "id": "fcebada1-078f-487f-9bcc-988843e3652b",
   "metadata": {
    "tags": []
   },
   "outputs": [],
   "source": [
    "ebm_model = ExplainableBoostingClassifier(interactions=0, random_state=3006)\n",
    "\n",
    "ebm_model.fit(X_train, y_train);"
   ]
  },
  {
   "cell_type": "markdown",
   "id": "1698d989-dada-4e0e-8905-c0187f36bc89",
   "metadata": {},
   "source": [
    "# Evaluate Models"
   ]
  },
  {
   "cell_type": "code",
   "execution_count": 13,
   "id": "8111cb8a-cdd5-4aba-bbe4-67f0004ac818",
   "metadata": {
    "tags": []
   },
   "outputs": [
    {
     "data": {
      "text/html": [
       "<div>\n",
       "<style scoped>\n",
       "    .dataframe tbody tr th:only-of-type {\n",
       "        vertical-align: middle;\n",
       "    }\n",
       "\n",
       "    .dataframe tbody tr th {\n",
       "        vertical-align: top;\n",
       "    }\n",
       "\n",
       "    .dataframe thead th {\n",
       "        text-align: right;\n",
       "    }\n",
       "</style>\n",
       "<table border=\"1\" class=\"dataframe\">\n",
       "  <thead>\n",
       "    <tr style=\"text-align: right;\">\n",
       "      <th></th>\n",
       "      <th>Model</th>\n",
       "      <th>Truth</th>\n",
       "      <th>Score</th>\n",
       "    </tr>\n",
       "  </thead>\n",
       "  <tbody>\n",
       "    <tr>\n",
       "      <th>0</th>\n",
       "      <td>Logistic Regression</td>\n",
       "      <td>Yes</td>\n",
       "      <td>0.526548</td>\n",
       "    </tr>\n",
       "    <tr>\n",
       "      <th>1</th>\n",
       "      <td>Logistic Regression</td>\n",
       "      <td>No</td>\n",
       "      <td>0.080807</td>\n",
       "    </tr>\n",
       "    <tr>\n",
       "      <th>2</th>\n",
       "      <td>Logistic Regression</td>\n",
       "      <td>No</td>\n",
       "      <td>0.025288</td>\n",
       "    </tr>\n",
       "    <tr>\n",
       "      <th>3</th>\n",
       "      <td>Logistic Regression</td>\n",
       "      <td>No</td>\n",
       "      <td>0.070488</td>\n",
       "    </tr>\n",
       "    <tr>\n",
       "      <th>4</th>\n",
       "      <td>Logistic Regression</td>\n",
       "      <td>No</td>\n",
       "      <td>0.075447</td>\n",
       "    </tr>\n",
       "    <tr>\n",
       "      <th>...</th>\n",
       "      <td>...</td>\n",
       "      <td>...</td>\n",
       "      <td>...</td>\n",
       "    </tr>\n",
       "    <tr>\n",
       "      <th>5269</th>\n",
       "      <td>EBM</td>\n",
       "      <td>No</td>\n",
       "      <td>0.043266</td>\n",
       "    </tr>\n",
       "    <tr>\n",
       "      <th>5270</th>\n",
       "      <td>EBM</td>\n",
       "      <td>Yes</td>\n",
       "      <td>0.243416</td>\n",
       "    </tr>\n",
       "    <tr>\n",
       "      <th>5271</th>\n",
       "      <td>EBM</td>\n",
       "      <td>Yes</td>\n",
       "      <td>0.690454</td>\n",
       "    </tr>\n",
       "    <tr>\n",
       "      <th>5272</th>\n",
       "      <td>EBM</td>\n",
       "      <td>No</td>\n",
       "      <td>0.164065</td>\n",
       "    </tr>\n",
       "    <tr>\n",
       "      <th>5273</th>\n",
       "      <td>EBM</td>\n",
       "      <td>No</td>\n",
       "      <td>0.065312</td>\n",
       "    </tr>\n",
       "  </tbody>\n",
       "</table>\n",
       "<p>5274 rows × 3 columns</p>\n",
       "</div>"
      ],
      "text/plain": [
       "                    Model Truth     Score\n",
       "0     Logistic Regression   Yes  0.526548\n",
       "1     Logistic Regression    No  0.080807\n",
       "2     Logistic Regression    No  0.025288\n",
       "3     Logistic Regression    No  0.070488\n",
       "4     Logistic Regression    No  0.075447\n",
       "...                   ...   ...       ...\n",
       "5269                  EBM    No  0.043266\n",
       "5270                  EBM   Yes  0.243416\n",
       "5271                  EBM   Yes  0.690454\n",
       "5272                  EBM    No  0.164065\n",
       "5273                  EBM    No  0.065312\n",
       "\n",
       "[5274 rows x 3 columns]"
      ]
     },
     "execution_count": 13,
     "metadata": {},
     "output_type": "execute_result"
    }
   ],
   "source": [
    "lr_test_df = pd.DataFrame({'Model': 'Logistic Regression',\n",
    "                           'Truth': y_test,\n",
    "                           'Score': lr_model.predict_proba(X_test)[:,1]})\n",
    "\n",
    "rf_test_df = pd.DataFrame({'Model': 'Random Forest',\n",
    "                           'Truth': y_test,\n",
    "                           'Score': rf_model.predict_proba(X_test)[:,1]})\n",
    "\n",
    "ebm_test_df = pd.DataFrame({'Model': 'EBM',\n",
    "                            'Truth': y_test,\n",
    "                            'Score': ebm_model.predict_proba(X_test)[:,1]})\n",
    "\n",
    "test_scores_df = pd.concat([lr_test_df, rf_test_df, ebm_test_df], ignore_index=True)\n",
    "\n",
    "test_scores_df"
   ]
  },
  {
   "cell_type": "code",
   "execution_count": 14,
   "id": "dcc75efa-330d-447d-b596-00e4633c2879",
   "metadata": {
    "tags": []
   },
   "outputs": [
    {
     "data": {
      "text/html": [
       "<style type=\"text/css\">\n",
       "</style>\n",
       "<table id=\"T_8a64d\">\n",
       "  <thead>\n",
       "    <tr>\n",
       "      <th id=\"T_8a64d_level0_col0\" class=\"col_heading level0 col0\" >Model</th>\n",
       "      <th id=\"T_8a64d_level0_col1\" class=\"col_heading level0 col1\" >Gain Capture</th>\n",
       "    </tr>\n",
       "  </thead>\n",
       "  <tbody>\n",
       "    <tr>\n",
       "      <td id=\"T_8a64d_row0_col0\" class=\"data row0 col0\" >EBM</td>\n",
       "      <td id=\"T_8a64d_row0_col1\" class=\"data row0 col1\" >0.694896</td>\n",
       "    </tr>\n",
       "    <tr>\n",
       "      <td id=\"T_8a64d_row1_col0\" class=\"data row1 col0\" >Logistic Regression</td>\n",
       "      <td id=\"T_8a64d_row1_col1\" class=\"data row1 col1\" >0.693855</td>\n",
       "    </tr>\n",
       "    <tr>\n",
       "      <td id=\"T_8a64d_row2_col0\" class=\"data row2 col0\" >Random Forest</td>\n",
       "      <td id=\"T_8a64d_row2_col1\" class=\"data row2 col1\" >0.637119</td>\n",
       "    </tr>\n",
       "  </tbody>\n",
       "</table>\n"
      ],
      "text/plain": [
       "<pandas.io.formats.style.Styler at 0x278e85d6cb0>"
      ]
     },
     "execution_count": 14,
     "metadata": {},
     "output_type": "execute_result"
    }
   ],
   "source": [
    "gain_stats_by_model, gains_by_model_df = gains(input_df=test_scores_df,\n",
    "                                               series_var='Model',\n",
    "                                               truth_var='Truth',\n",
    "                                               score_var='Score') \n",
    "\n",
    "gain_stats_by_model.rename(columns={'Series': 'Model'}, inplace=True)\n",
    "\n",
    "gain_stats_by_model.sort_values(by='Gain Capture', ascending=False, inplace=True)\n",
    "\n",
    "gains_by_model_df = pd.merge(gain_stats_by_model, gains_by_model_df, how='left', on='Model')\n",
    "\n",
    "gain_stats_by_model.style.hide(axis='index')"
   ]
  },
  {
   "cell_type": "code",
   "execution_count": 26,
   "id": "f7c91f6f-d81d-40f6-afbc-ca7dcfc761cd",
   "metadata": {
    "tags": []
   },
   "outputs": [
    {
     "data": {
      "image/png": "[encoded data removed]",
      "text/plain": [
       "<IPython.core.display.Image object>"
      ]
     },
     "metadata": {},
     "output_type": "display_data"
    }
   ],
   "source": [
    "fig = px.line(gains_by_model_df, x='CumPct_Sample', y='CumPct_Target', color='Model',\n",
    "              title='Cumulative Gains Curves',\n",
    "              labels={'CumPct_Sample': '% Tested', 'CumPct_Target': '% Found'},\n",
    "              width=500, height=500)\n",
    "\n",
    "fig.add_trace(\n",
    "    go.Scatter(x=[0, (y_test=='Yes').mean(), 1, 0],\n",
    "               y=[0, 1, 1, 0],\n",
    "               mode='text',\n",
    "               fill='toself',\n",
    "               fillcolor='lightgrey',\n",
    "               opacity=0.5,\n",
    "               name='Perfect curve for this data')\n",
    ")\n",
    "\n",
    "fig.layout.xaxis.tickformat = ',.0%'\n",
    "fig.layout.yaxis.tickformat = ',.0%'\n",
    "\n",
    "fig.update_layout(\n",
    "    legend=dict(\n",
    "        yanchor='bottom', y=0.05, xanchor='right', x=0.99\n",
    "    ),\n",
    "    hovermode=False\n",
    ")\n",
    "\n",
    "# To display in JupyterLab\n",
    "# fig.show()\n",
    "\n",
    "# To display in GitHub and JupyterLab\n",
    "static_image_bytes = fig.to_image(format=\"png\")\n",
    "display(Image(static_image_bytes))"
   ]
  },
  {
   "cell_type": "markdown",
   "id": "1a9ee3e2-9740-4362-88ba-6089d411cdb1",
   "metadata": {},
   "source": [
    "# Review of Champion Model"
   ]
  },
  {
   "cell_type": "markdown",
   "id": "6f722cd7-cdff-4a5f-8c34-2cb6e9c2cef1",
   "metadata": {},
   "source": [
    "## Performance by Decile"
   ]
  },
  {
   "cell_type": "code",
   "execution_count": 25,
   "id": "edfc6c7d-e6d0-4366-b4e9-7551b2b593bc",
   "metadata": {
    "tags": []
   },
   "outputs": [
    {
     "data": {
      "image/png": "[encoded data removed]",
      "text/plain": [
       "<IPython.core.display.Image object>"
      ]
     },
     "metadata": {},
     "output_type": "display_data"
    }
   ],
   "source": [
    "ebm_test_df['Decile'] = 10 - pd.qcut(ebm_test_df['Score'], 10, labels=False)\n",
    "\n",
    "ebm_test_df['truth_dummy'] = ebm_test_df.Truth == 'Yes'\n",
    "\n",
    "rates_by_decile_df = ebm_test_df.groupby('Decile').agg(rate = ('truth_dummy', 'mean'))\n",
    "\n",
    "overall_rate_text = f\"Overall Rate ({ebm_test_df['truth_dummy'].mean()*100:.1f}%)\"\n",
    "\n",
    "fig = px.bar(rates_by_decile_df, x=rates_by_decile_df.index, y='rate',\n",
    "             text_auto='.1%', labels={'rate': 'Actual Churn Rate'},\n",
    "             title='Churn Rate by Decile')\n",
    "\n",
    "fig.add_hline(ebm_test_df['truth_dummy'].mean(),\n",
    "              line_color='blue', line_width=1, opacity=0.3,\n",
    "              annotation_text=overall_rate_text)\n",
    "\n",
    "fig.layout.yaxis.tickformat = ',.0%'\n",
    "\n",
    "fig.update_layout(hovermode=False, xaxis={'dtick': 1})\n",
    "\n",
    "# To display in JupyterLab\n",
    "# fig.show()\n",
    "\n",
    "# To display in GitHub and JupyterLab\n",
    "static_image_bytes = fig.to_image(format=\"png\")\n",
    "display(Image(static_image_bytes))"
   ]
  },
  {
   "cell_type": "markdown",
   "id": "d2b90f05-aff1-41e9-9e54-7dc8b492d5f7",
   "metadata": {},
   "source": [
    "## Global Feature Importance"
   ]
  },
  {
   "cell_type": "code",
   "execution_count": 20,
   "id": "623128b3-7495-4398-9821-d68ecd41ab5e",
   "metadata": {
    "tags": []
   },
   "outputs": [
    {
     "data": {
      "application/vnd.plotly.v1+json": {
       "config": {
        "plotlyServerURL": "https://plot.ly"
       },
       "data": [
        {
         "alignmentgroup": "True",
         "hovertemplate": "=%{y}<extra></extra>",
         "legendgroup": "",
         "marker": {
          "color": "#636efa",
          "pattern": {
           "shape": ""
          }
         },
         "name": "",
         "offsetgroup": "",
         "orientation": "h",
         "showlegend": false,
         "textposition": "auto",
         "type": "bar",
         "x": [
          0.543097024815862,
          0.3809326636286013,
          0.2938933703253306,
          0.20824089801871884,
          0.19971505253785884,
          0.1729425924226155,
          0.16365941937434592,
          0.14887919551294077,
          0.13982743025304573,
          0.13772941774004946
         ],
         "xaxis": "x",
         "y": [
          "Contract",
          "Tenure",
          "Internet Service",
          "Tech Support",
          "Total Charges",
          "Payment Method",
          "Online Security",
          "Paperless Billing",
          "Monthly Charges",
          "Streaming TV"
         ],
         "yaxis": "y"
        }
       ],
       "layout": {
        "autosize": true,
        "barmode": "relative",
        "hovermode": false,
        "legend": {
         "tracegroupgap": 0
        },
        "template": {
         "data": {
          "bar": [
           {
            "error_x": {
             "color": "#2a3f5f"
            },
            "error_y": {
             "color": "#2a3f5f"
            },
            "marker": {
             "line": {
              "color": "#E5ECF6",
              "width": 0.5
             },
             "pattern": {
              "fillmode": "overlay",
              "size": 10,
              "solidity": 0.2
             }
            },
            "type": "bar"
           }
          ],
          "barpolar": [
           {
            "marker": {
             "line": {
              "color": "#E5ECF6",
              "width": 0.5
             },
             "pattern": {
              "fillmode": "overlay",
              "size": 10,
              "solidity": 0.2
             }
            },
            "type": "barpolar"
           }
          ],
          "carpet": [
           {
            "aaxis": {
             "endlinecolor": "#2a3f5f",
             "gridcolor": "white",
             "linecolor": "white",
             "minorgridcolor": "white",
             "startlinecolor": "#2a3f5f"
            },
            "baxis": {
             "endlinecolor": "#2a3f5f",
             "gridcolor": "white",
             "linecolor": "white",
             "minorgridcolor": "white",
             "startlinecolor": "#2a3f5f"
            },
            "type": "carpet"
           }
          ],
          "choropleth": [
           {
            "colorbar": {
             "outlinewidth": 0,
             "ticks": ""
            },
            "type": "choropleth"
           }
          ],
          "contour": [
           {
            "colorbar": {
             "outlinewidth": 0,
             "ticks": ""
            },
            "colorscale": [
             [
              0,
              "#0d0887"
             ],
             [
              0.1111111111111111,
              "#46039f"
             ],
             [
              0.2222222222222222,
              "#7201a8"
             ],
             [
              0.3333333333333333,
              "#9c179e"
             ],
             [
              0.4444444444444444,
              "#bd3786"
             ],
             [
              0.5555555555555556,
              "#d8576b"
             ],
             [
              0.6666666666666666,
              "#ed7953"
             ],
             [
              0.7777777777777778,
              "#fb9f3a"
             ],
             [
              0.8888888888888888,
              "#fdca26"
             ],
             [
              1,
              "#f0f921"
             ]
            ],
            "type": "contour"
           }
          ],
          "contourcarpet": [
           {
            "colorbar": {
             "outlinewidth": 0,
             "ticks": ""
            },
            "type": "contourcarpet"
           }
          ],
          "heatmap": [
           {
            "colorbar": {
             "outlinewidth": 0,
             "ticks": ""
            },
            "colorscale": [
             [
              0,
              "#0d0887"
             ],
             [
              0.1111111111111111,
              "#46039f"
             ],
             [
              0.2222222222222222,
              "#7201a8"
             ],
             [
              0.3333333333333333,
              "#9c179e"
             ],
             [
              0.4444444444444444,
              "#bd3786"
             ],
             [
              0.5555555555555556,
              "#d8576b"
             ],
             [
              0.6666666666666666,
              "#ed7953"
             ],
             [
              0.7777777777777778,
              "#fb9f3a"
             ],
             [
              0.8888888888888888,
              "#fdca26"
             ],
             [
              1,
              "#f0f921"
             ]
            ],
            "type": "heatmap"
           }
          ],
          "heatmapgl": [
           {
            "colorbar": {
             "outlinewidth": 0,
             "ticks": ""
            },
            "colorscale": [
             [
              0,
              "#0d0887"
             ],
             [
              0.1111111111111111,
              "#46039f"
             ],
             [
              0.2222222222222222,
              "#7201a8"
             ],
             [
              0.3333333333333333,
              "#9c179e"
             ],
             [
              0.4444444444444444,
              "#bd3786"
             ],
             [
              0.5555555555555556,
              "#d8576b"
             ],
             [
              0.6666666666666666,
              "#ed7953"
             ],
             [
              0.7777777777777778,
              "#fb9f3a"
             ],
             [
              0.8888888888888888,
              "#fdca26"
             ],
             [
              1,
              "#f0f921"
             ]
            ],
            "type": "heatmapgl"
           }
          ],
          "histogram": [
           {
            "marker": {
             "pattern": {
              "fillmode": "overlay",
              "size": 10,
              "solidity": 0.2
             }
            },
            "type": "histogram"
           }
          ],
          "histogram2d": [
           {
            "colorbar": {
             "outlinewidth": 0,
             "ticks": ""
            },
            "colorscale": [
             [
              0,
              "#0d0887"
             ],
             [
              0.1111111111111111,
              "#46039f"
             ],
             [
              0.2222222222222222,
              "#7201a8"
             ],
             [
              0.3333333333333333,
              "#9c179e"
             ],
             [
              0.4444444444444444,
              "#bd3786"
             ],
             [
              0.5555555555555556,
              "#d8576b"
             ],
             [
              0.6666666666666666,
              "#ed7953"
             ],
             [
              0.7777777777777778,
              "#fb9f3a"
             ],
             [
              0.8888888888888888,
              "#fdca26"
             ],
             [
              1,
              "#f0f921"
             ]
            ],
            "type": "histogram2d"
           }
          ],
          "histogram2dcontour": [
           {
            "colorbar": {
             "outlinewidth": 0,
             "ticks": ""
            },
            "colorscale": [
             [
              0,
              "#0d0887"
             ],
             [
              0.1111111111111111,
              "#46039f"
             ],
             [
              0.2222222222222222,
              "#7201a8"
             ],
             [
              0.3333333333333333,
              "#9c179e"
             ],
             [
              0.4444444444444444,
              "#bd3786"
             ],
             [
              0.5555555555555556,
              "#d8576b"
             ],
             [
              0.6666666666666666,
              "#ed7953"
             ],
             [
              0.7777777777777778,
              "#fb9f3a"
             ],
             [
              0.8888888888888888,
              "#fdca26"
             ],
             [
              1,
              "#f0f921"
             ]
            ],
            "type": "histogram2dcontour"
           }
          ],
          "mesh3d": [
           {
            "colorbar": {
             "outlinewidth": 0,
             "ticks": ""
            },
            "type": "mesh3d"
           }
          ],
          "parcoords": [
           {
            "line": {
             "colorbar": {
              "outlinewidth": 0,
              "ticks": ""
             }
            },
            "type": "parcoords"
           }
          ],
          "pie": [
           {
            "automargin": true,
            "type": "pie"
           }
          ],
          "scatter": [
           {
            "fillpattern": {
             "fillmode": "overlay",
             "size": 10,
             "solidity": 0.2
            },
            "type": "scatter"
           }
          ],
          "scatter3d": [
           {
            "line": {
             "colorbar": {
              "outlinewidth": 0,
              "ticks": ""
             }
            },
            "marker": {
             "colorbar": {
              "outlinewidth": 0,
              "ticks": ""
             }
            },
            "type": "scatter3d"
           }
          ],
          "scattercarpet": [
           {
            "marker": {
             "colorbar": {
              "outlinewidth": 0,
              "ticks": ""
             }
            },
            "type": "scattercarpet"
           }
          ],
          "scattergeo": [
           {
            "marker": {
             "colorbar": {
              "outlinewidth": 0,
              "ticks": ""
             }
            },
            "type": "scattergeo"
           }
          ],
          "scattergl": [
           {
            "marker": {
             "colorbar": {
              "outlinewidth": 0,
              "ticks": ""
             }
            },
            "type": "scattergl"
           }
          ],
          "scattermapbox": [
           {
            "marker": {
             "colorbar": {
              "outlinewidth": 0,
              "ticks": ""
             }
            },
            "type": "scattermapbox"
           }
          ],
          "scatterpolar": [
           {
            "marker": {
             "colorbar": {
              "outlinewidth": 0,
              "ticks": ""
             }
            },
            "type": "scatterpolar"
           }
          ],
          "scatterpolargl": [
           {
            "marker": {
             "colorbar": {
              "outlinewidth": 0,
              "ticks": ""
             }
            },
            "type": "scatterpolargl"
           }
          ],
          "scatterternary": [
           {
            "marker": {
             "colorbar": {
              "outlinewidth": 0,
              "ticks": ""
             }
            },
            "type": "scatterternary"
           }
          ],
          "surface": [
           {
            "colorbar": {
             "outlinewidth": 0,
             "ticks": ""
            },
            "colorscale": [
             [
              0,
              "#0d0887"
             ],
             [
              0.1111111111111111,
              "#46039f"
             ],
             [
              0.2222222222222222,
              "#7201a8"
             ],
             [
              0.3333333333333333,
              "#9c179e"
             ],
             [
              0.4444444444444444,
              "#bd3786"
             ],
             [
              0.5555555555555556,
              "#d8576b"
             ],
             [
              0.6666666666666666,
              "#ed7953"
             ],
             [
              0.7777777777777778,
              "#fb9f3a"
             ],
             [
              0.8888888888888888,
              "#fdca26"
             ],
             [
              1,
              "#f0f921"
             ]
            ],
            "type": "surface"
           }
          ],
          "table": [
           {
            "cells": {
             "fill": {
              "color": "#EBF0F8"
             },
             "line": {
              "color": "white"
             }
            },
            "header": {
             "fill": {
              "color": "#C8D4E3"
             },
             "line": {
              "color": "white"
             }
            },
            "type": "table"
           }
          ]
         },
         "layout": {
          "annotationdefaults": {
           "arrowcolor": "#2a3f5f",
           "arrowhead": 0,
           "arrowwidth": 1
          },
          "autotypenumbers": "strict",
          "coloraxis": {
           "colorbar": {
            "outlinewidth": 0,
            "ticks": ""
           }
          },
          "colorscale": {
           "diverging": [
            [
             0,
             "#8e0152"
            ],
            [
             0.1,
             "#c51b7d"
            ],
            [
             0.2,
             "#de77ae"
            ],
            [
             0.3,
             "#f1b6da"
            ],
            [
             0.4,
             "#fde0ef"
            ],
            [
             0.5,
             "#f7f7f7"
            ],
            [
             0.6,
             "#e6f5d0"
            ],
            [
             0.7,
             "#b8e186"
            ],
            [
             0.8,
             "#7fbc41"
            ],
            [
             0.9,
             "#4d9221"
            ],
            [
             1,
             "#276419"
            ]
           ],
           "sequential": [
            [
             0,
             "#0d0887"
            ],
            [
             0.1111111111111111,
             "#46039f"
            ],
            [
             0.2222222222222222,
             "#7201a8"
            ],
            [
             0.3333333333333333,
             "#9c179e"
            ],
            [
             0.4444444444444444,
             "#bd3786"
            ],
            [
             0.5555555555555556,
             "#d8576b"
            ],
            [
             0.6666666666666666,
             "#ed7953"
            ],
            [
             0.7777777777777778,
             "#fb9f3a"
            ],
            [
             0.8888888888888888,
             "#fdca26"
            ],
            [
             1,
             "#f0f921"
            ]
           ],
           "sequentialminus": [
            [
             0,
             "#0d0887"
            ],
            [
             0.1111111111111111,
             "#46039f"
            ],
            [
             0.2222222222222222,
             "#7201a8"
            ],
            [
             0.3333333333333333,
             "#9c179e"
            ],
            [
             0.4444444444444444,
             "#bd3786"
            ],
            [
             0.5555555555555556,
             "#d8576b"
            ],
            [
             0.6666666666666666,
             "#ed7953"
            ],
            [
             0.7777777777777778,
             "#fb9f3a"
            ],
            [
             0.8888888888888888,
             "#fdca26"
            ],
            [
             1,
             "#f0f921"
            ]
           ]
          },
          "colorway": [
           "#636efa",
           "#EF553B",
           "#00cc96",
           "#ab63fa",
           "#FFA15A",
           "#19d3f3",
           "#FF6692",
           "#B6E880",
           "#FF97FF",
           "#FECB52"
          ],
          "font": {
           "color": "#2a3f5f"
          },
          "geo": {
           "bgcolor": "white",
           "lakecolor": "white",
           "landcolor": "#E5ECF6",
           "showlakes": true,
           "showland": true,
           "subunitcolor": "white"
          },
          "hoverlabel": {
           "align": "left"
          },
          "hovermode": "closest",
          "mapbox": {
           "style": "light"
          },
          "paper_bgcolor": "white",
          "plot_bgcolor": "#E5ECF6",
          "polar": {
           "angularaxis": {
            "gridcolor": "white",
            "linecolor": "white",
            "ticks": ""
           },
           "bgcolor": "#E5ECF6",
           "radialaxis": {
            "gridcolor": "white",
            "linecolor": "white",
            "ticks": ""
           }
          },
          "scene": {
           "xaxis": {
            "backgroundcolor": "#E5ECF6",
            "gridcolor": "white",
            "gridwidth": 2,
            "linecolor": "white",
            "showbackground": true,
            "ticks": "",
            "zerolinecolor": "white"
           },
           "yaxis": {
            "backgroundcolor": "#E5ECF6",
            "gridcolor": "white",
            "gridwidth": 2,
            "linecolor": "white",
            "showbackground": true,
            "ticks": "",
            "zerolinecolor": "white"
           },
           "zaxis": {
            "backgroundcolor": "#E5ECF6",
            "gridcolor": "white",
            "gridwidth": 2,
            "linecolor": "white",
            "showbackground": true,
            "ticks": "",
            "zerolinecolor": "white"
           }
          },
          "shapedefaults": {
           "line": {
            "color": "#2a3f5f"
           }
          },
          "ternary": {
           "aaxis": {
            "gridcolor": "white",
            "linecolor": "white",
            "ticks": ""
           },
           "baxis": {
            "gridcolor": "white",
            "linecolor": "white",
            "ticks": ""
           },
           "bgcolor": "#E5ECF6",
           "caxis": {
            "gridcolor": "white",
            "linecolor": "white",
            "ticks": ""
           }
          },
          "title": {
           "x": 0.05
          },
          "xaxis": {
           "automargin": true,
           "gridcolor": "white",
           "linecolor": "white",
           "ticks": "",
           "title": {
            "standoff": 15
           },
           "zerolinecolor": "white",
           "zerolinewidth": 2
          },
          "yaxis": {
           "automargin": true,
           "gridcolor": "white",
           "linecolor": "white",
           "ticks": "",
           "title": {
            "standoff": 15
           },
           "zerolinecolor": "white",
           "zerolinewidth": 2
          }
         }
        },
        "title": {
         "text": "Global Feature Importance - Top 10 Features"
        },
        "xaxis": {
         "anchor": "y",
         "autorange": true,
         "domain": [
          0,
          1
         ],
         "range": [
          0,
          0.5716810787535389
         ],
         "title": {
          "text": ""
         },
         "type": "linear"
        },
        "yaxis": {
         "anchor": "x",
         "autorange": true,
         "domain": [
          0,
          1
         ],
         "range": [
          9.5,
          -0.5
         ],
         "title": {
          "text": ""
         },
         "type": "category"
        }
       }
      },
      "image/png": "[encoded data removed]",
      "text/html": [
       "<div>                            <div id=\"77ad27e3-b90d-4670-9b13-79dce678e902\" class=\"plotly-graph-div\" style=\"height:525px; width:100%;\"></div>            <script type=\"text/javascript\">                require([\"plotly\"], function(Plotly) {                    window.PLOTLYENV=window.PLOTLYENV || {};                                    if (document.getElementById(\"77ad27e3-b90d-4670-9b13-79dce678e902\")) {                    Plotly.newPlot(                        \"77ad27e3-b90d-4670-9b13-79dce678e902\",                        [{\"alignmentgroup\":\"True\",\"hovertemplate\":\"=%{y}\\u003cextra\\u003e\\u003c\\u002fextra\\u003e\",\"legendgroup\":\"\",\"marker\":{\"color\":\"#636efa\",\"pattern\":{\"shape\":\"\"}},\"name\":\"\",\"offsetgroup\":\"\",\"orientation\":\"h\",\"showlegend\":false,\"textposition\":\"auto\",\"x\":[0.543097024815862,0.3809326636286013,0.2938933703253306,0.20824089801871884,0.19971505253785884,0.1729425924226155,0.16365941937434592,0.14887919551294077,0.13982743025304573,0.13772941774004946],\"xaxis\":\"x\",\"y\":[\"Contract\",\"Tenure\",\"Internet Service\",\"Tech Support\",\"Total Charges\",\"Payment Method\",\"Online Security\",\"Paperless Billing\",\"Monthly Charges\",\"Streaming TV\"],\"yaxis\":\"y\",\"type\":\"bar\"}],                        {\"template\":{\"data\":{\"histogram2dcontour\":[{\"type\":\"histogram2dcontour\",\"colorbar\":{\"outlinewidth\":0,\"ticks\":\"\"},\"colorscale\":[[0.0,\"#0d0887\"],[0.1111111111111111,\"#46039f\"],[0.2222222222222222,\"#7201a8\"],[0.3333333333333333,\"#9c179e\"],[0.4444444444444444,\"#bd3786\"],[0.5555555555555556,\"#d8576b\"],[0.6666666666666666,\"#ed7953\"],[0.7777777777777778,\"#fb9f3a\"],[0.8888888888888888,\"#fdca26\"],[1.0,\"#f0f921\"]]}],\"choropleth\":[{\"type\":\"choropleth\",\"colorbar\":{\"outlinewidth\":0,\"ticks\":\"\"}}],\"histogram2d\":[{\"type\":\"histogram2d\",\"colorbar\":{\"outlinewidth\":0,\"ticks\":\"\"},\"colorscale\":[[0.0,\"#0d0887\"],[0.1111111111111111,\"#46039f\"],[0.2222222222222222,\"#7201a8\"],[0.3333333333333333,\"#9c179e\"],[0.4444444444444444,\"#bd3786\"],[0.5555555555555556,\"#d8576b\"],[0.6666666666666666,\"#ed7953\"],[0.7777777777777778,\"#fb9f3a\"],[0.8888888888888888,\"#fdca26\"],[1.0,\"#f0f921\"]]}],\"heatmap\":[{\"type\":\"heatmap\",\"colorbar\":{\"outlinewidth\":0,\"ticks\":\"\"},\"colorscale\":[[0.0,\"#0d0887\"],[0.1111111111111111,\"#46039f\"],[0.2222222222222222,\"#7201a8\"],[0.3333333333333333,\"#9c179e\"],[0.4444444444444444,\"#bd3786\"],[0.5555555555555556,\"#d8576b\"],[0.6666666666666666,\"#ed7953\"],[0.7777777777777778,\"#fb9f3a\"],[0.8888888888888888,\"#fdca26\"],[1.0,\"#f0f921\"]]}],\"heatmapgl\":[{\"type\":\"heatmapgl\",\"colorbar\":{\"outlinewidth\":0,\"ticks\":\"\"},\"colorscale\":[[0.0,\"#0d0887\"],[0.1111111111111111,\"#46039f\"],[0.2222222222222222,\"#7201a8\"],[0.3333333333333333,\"#9c179e\"],[0.4444444444444444,\"#bd3786\"],[0.5555555555555556,\"#d8576b\"],[0.6666666666666666,\"#ed7953\"],[0.7777777777777778,\"#fb9f3a\"],[0.8888888888888888,\"#fdca26\"],[1.0,\"#f0f921\"]]}],\"contourcarpet\":[{\"type\":\"contourcarpet\",\"colorbar\":{\"outlinewidth\":0,\"ticks\":\"\"}}],\"contour\":[{\"type\":\"contour\",\"colorbar\":{\"outlinewidth\":0,\"ticks\":\"\"},\"colorscale\":[[0.0,\"#0d0887\"],[0.1111111111111111,\"#46039f\"],[0.2222222222222222,\"#7201a8\"],[0.3333333333333333,\"#9c179e\"],[0.4444444444444444,\"#bd3786\"],[0.5555555555555556,\"#d8576b\"],[0.6666666666666666,\"#ed7953\"],[0.7777777777777778,\"#fb9f3a\"],[0.8888888888888888,\"#fdca26\"],[1.0,\"#f0f921\"]]}],\"surface\":[{\"type\":\"surface\",\"colorbar\":{\"outlinewidth\":0,\"ticks\":\"\"},\"colorscale\":[[0.0,\"#0d0887\"],[0.1111111111111111,\"#46039f\"],[0.2222222222222222,\"#7201a8\"],[0.3333333333333333,\"#9c179e\"],[0.4444444444444444,\"#bd3786\"],[0.5555555555555556,\"#d8576b\"],[0.6666666666666666,\"#ed7953\"],[0.7777777777777778,\"#fb9f3a\"],[0.8888888888888888,\"#fdca26\"],[1.0,\"#f0f921\"]]}],\"mesh3d\":[{\"type\":\"mesh3d\",\"colorbar\":{\"outlinewidth\":0,\"ticks\":\"\"}}],\"scatter\":[{\"fillpattern\":{\"fillmode\":\"overlay\",\"size\":10,\"solidity\":0.2},\"type\":\"scatter\"}],\"parcoords\":[{\"type\":\"parcoords\",\"line\":{\"colorbar\":{\"outlinewidth\":0,\"ticks\":\"\"}}}],\"scatterpolargl\":[{\"type\":\"scatterpolargl\",\"marker\":{\"colorbar\":{\"outlinewidth\":0,\"ticks\":\"\"}}}],\"bar\":[{\"error_x\":{\"color\":\"#2a3f5f\"},\"error_y\":{\"color\":\"#2a3f5f\"},\"marker\":{\"line\":{\"color\":\"#E5ECF6\",\"width\":0.5},\"pattern\":{\"fillmode\":\"overlay\",\"size\":10,\"solidity\":0.2}},\"type\":\"bar\"}],\"scattergeo\":[{\"type\":\"scattergeo\",\"marker\":{\"colorbar\":{\"outlinewidth\":0,\"ticks\":\"\"}}}],\"scatterpolar\":[{\"type\":\"scatterpolar\",\"marker\":{\"colorbar\":{\"outlinewidth\":0,\"ticks\":\"\"}}}],\"histogram\":[{\"marker\":{\"pattern\":{\"fillmode\":\"overlay\",\"size\":10,\"solidity\":0.2}},\"type\":\"histogram\"}],\"scattergl\":[{\"type\":\"scattergl\",\"marker\":{\"colorbar\":{\"outlinewidth\":0,\"ticks\":\"\"}}}],\"scatter3d\":[{\"type\":\"scatter3d\",\"line\":{\"colorbar\":{\"outlinewidth\":0,\"ticks\":\"\"}},\"marker\":{\"colorbar\":{\"outlinewidth\":0,\"ticks\":\"\"}}}],\"scattermapbox\":[{\"type\":\"scattermapbox\",\"marker\":{\"colorbar\":{\"outlinewidth\":0,\"ticks\":\"\"}}}],\"scatterternary\":[{\"type\":\"scatterternary\",\"marker\":{\"colorbar\":{\"outlinewidth\":0,\"ticks\":\"\"}}}],\"scattercarpet\":[{\"type\":\"scattercarpet\",\"marker\":{\"colorbar\":{\"outlinewidth\":0,\"ticks\":\"\"}}}],\"carpet\":[{\"aaxis\":{\"endlinecolor\":\"#2a3f5f\",\"gridcolor\":\"white\",\"linecolor\":\"white\",\"minorgridcolor\":\"white\",\"startlinecolor\":\"#2a3f5f\"},\"baxis\":{\"endlinecolor\":\"#2a3f5f\",\"gridcolor\":\"white\",\"linecolor\":\"white\",\"minorgridcolor\":\"white\",\"startlinecolor\":\"#2a3f5f\"},\"type\":\"carpet\"}],\"table\":[{\"cells\":{\"fill\":{\"color\":\"#EBF0F8\"},\"line\":{\"color\":\"white\"}},\"header\":{\"fill\":{\"color\":\"#C8D4E3\"},\"line\":{\"color\":\"white\"}},\"type\":\"table\"}],\"barpolar\":[{\"marker\":{\"line\":{\"color\":\"#E5ECF6\",\"width\":0.5},\"pattern\":{\"fillmode\":\"overlay\",\"size\":10,\"solidity\":0.2}},\"type\":\"barpolar\"}],\"pie\":[{\"automargin\":true,\"type\":\"pie\"}]},\"layout\":{\"autotypenumbers\":\"strict\",\"colorway\":[\"#636efa\",\"#EF553B\",\"#00cc96\",\"#ab63fa\",\"#FFA15A\",\"#19d3f3\",\"#FF6692\",\"#B6E880\",\"#FF97FF\",\"#FECB52\"],\"font\":{\"color\":\"#2a3f5f\"},\"hovermode\":\"closest\",\"hoverlabel\":{\"align\":\"left\"},\"paper_bgcolor\":\"white\",\"plot_bgcolor\":\"#E5ECF6\",\"polar\":{\"bgcolor\":\"#E5ECF6\",\"angularaxis\":{\"gridcolor\":\"white\",\"linecolor\":\"white\",\"ticks\":\"\"},\"radialaxis\":{\"gridcolor\":\"white\",\"linecolor\":\"white\",\"ticks\":\"\"}},\"ternary\":{\"bgcolor\":\"#E5ECF6\",\"aaxis\":{\"gridcolor\":\"white\",\"linecolor\":\"white\",\"ticks\":\"\"},\"baxis\":{\"gridcolor\":\"white\",\"linecolor\":\"white\",\"ticks\":\"\"},\"caxis\":{\"gridcolor\":\"white\",\"linecolor\":\"white\",\"ticks\":\"\"}},\"coloraxis\":{\"colorbar\":{\"outlinewidth\":0,\"ticks\":\"\"}},\"colorscale\":{\"sequential\":[[0.0,\"#0d0887\"],[0.1111111111111111,\"#46039f\"],[0.2222222222222222,\"#7201a8\"],[0.3333333333333333,\"#9c179e\"],[0.4444444444444444,\"#bd3786\"],[0.5555555555555556,\"#d8576b\"],[0.6666666666666666,\"#ed7953\"],[0.7777777777777778,\"#fb9f3a\"],[0.8888888888888888,\"#fdca26\"],[1.0,\"#f0f921\"]],\"sequentialminus\":[[0.0,\"#0d0887\"],[0.1111111111111111,\"#46039f\"],[0.2222222222222222,\"#7201a8\"],[0.3333333333333333,\"#9c179e\"],[0.4444444444444444,\"#bd3786\"],[0.5555555555555556,\"#d8576b\"],[0.6666666666666666,\"#ed7953\"],[0.7777777777777778,\"#fb9f3a\"],[0.8888888888888888,\"#fdca26\"],[1.0,\"#f0f921\"]],\"diverging\":[[0,\"#8e0152\"],[0.1,\"#c51b7d\"],[0.2,\"#de77ae\"],[0.3,\"#f1b6da\"],[0.4,\"#fde0ef\"],[0.5,\"#f7f7f7\"],[0.6,\"#e6f5d0\"],[0.7,\"#b8e186\"],[0.8,\"#7fbc41\"],[0.9,\"#4d9221\"],[1,\"#276419\"]]},\"xaxis\":{\"gridcolor\":\"white\",\"linecolor\":\"white\",\"ticks\":\"\",\"title\":{\"standoff\":15},\"zerolinecolor\":\"white\",\"automargin\":true,\"zerolinewidth\":2},\"yaxis\":{\"gridcolor\":\"white\",\"linecolor\":\"white\",\"ticks\":\"\",\"title\":{\"standoff\":15},\"zerolinecolor\":\"white\",\"automargin\":true,\"zerolinewidth\":2},\"scene\":{\"xaxis\":{\"backgroundcolor\":\"#E5ECF6\",\"gridcolor\":\"white\",\"linecolor\":\"white\",\"showbackground\":true,\"ticks\":\"\",\"zerolinecolor\":\"white\",\"gridwidth\":2},\"yaxis\":{\"backgroundcolor\":\"#E5ECF6\",\"gridcolor\":\"white\",\"linecolor\":\"white\",\"showbackground\":true,\"ticks\":\"\",\"zerolinecolor\":\"white\",\"gridwidth\":2},\"zaxis\":{\"backgroundcolor\":\"#E5ECF6\",\"gridcolor\":\"white\",\"linecolor\":\"white\",\"showbackground\":true,\"ticks\":\"\",\"zerolinecolor\":\"white\",\"gridwidth\":2}},\"shapedefaults\":{\"line\":{\"color\":\"#2a3f5f\"}},\"annotationdefaults\":{\"arrowcolor\":\"#2a3f5f\",\"arrowhead\":0,\"arrowwidth\":1},\"geo\":{\"bgcolor\":\"white\",\"landcolor\":\"#E5ECF6\",\"subunitcolor\":\"white\",\"showland\":true,\"showlakes\":true,\"lakecolor\":\"white\"},\"title\":{\"x\":0.05},\"mapbox\":{\"style\":\"light\"}}},\"xaxis\":{\"anchor\":\"y\",\"domain\":[0.0,1.0],\"title\":{\"text\":\"\"}},\"yaxis\":{\"anchor\":\"x\",\"domain\":[0.0,1.0],\"title\":{\"text\":\"\"},\"autorange\":\"reversed\"},\"legend\":{\"tracegroupgap\":0},\"title\":{\"text\":\"Global Feature Importance - Top 10 Features\"},\"barmode\":\"relative\",\"hovermode\":false},                        {\"responsive\": true}                    ).then(function(){\n",
       "                            \n",
       "var gd = document.getElementById('77ad27e3-b90d-4670-9b13-79dce678e902');\n",
       "var x = new MutationObserver(function (mutations, observer) {{\n",
       "        var display = window.getComputedStyle(gd).display;\n",
       "        if (!display || display === 'none') {{\n",
       "            console.log([gd, 'removed!']);\n",
       "            Plotly.purge(gd);\n",
       "            observer.disconnect();\n",
       "        }}\n",
       "}});\n",
       "\n",
       "// Listen for the removal of the full notebook cells\n",
       "var notebookContainer = gd.closest('#notebook-container');\n",
       "if (notebookContainer) {{\n",
       "    x.observe(notebookContainer, {childList: true});\n",
       "}}\n",
       "\n",
       "// Listen for the clearing of the current output cell\n",
       "var outputEl = gd.closest('.output');\n",
       "if (outputEl) {{\n",
       "    x.observe(outputEl, {childList: true});\n",
       "}}\n",
       "\n",
       "                        })                };                });            </script>        </div>"
      ]
     },
     "metadata": {},
     "output_type": "display_data"
    }
   ],
   "source": [
    "NUM_GLOBAL_FEATURES_TO_SHOW = 10\n",
    "\n",
    "ebm_global = ebm_model.explain_global()\n",
    "\n",
    "global_importance_df = pd.DataFrame(ebm_global.data()).sort_values(by=['scores'], ascending=False, ignore_index=True)\n",
    "\n",
    "temp_df = global_importance_df[: NUM_GLOBAL_FEATURES_TO_SHOW]\n",
    "\n",
    "fig = px.bar(temp_df, x='scores', y='names', orientation='h', \n",
    "             labels={'names':'', 'scores':''},\n",
    "             title=f\"Global Feature Importance - Top {NUM_GLOBAL_FEATURES_TO_SHOW} Features\")\n",
    "\n",
    "fig.update_layout(yaxis=dict(autorange=\"reversed\"), hovermode=False)\n",
    "\n",
    "fig.show()"
   ]
  },
  {
   "cell_type": "markdown",
   "id": "c3305eae-24cd-4738-a85a-74acfb25b887",
   "metadata": {},
   "source": [
    "## Local Explainability Examples"
   ]
  },
  {
   "cell_type": "code",
   "execution_count": null,
   "id": "7eaecf1f-c0ae-4480-b0a7-2efb2f17a20e",
   "metadata": {
    "tags": []
   },
   "outputs": [],
   "source": [
    "# Score entire dataframe\n",
    "\n",
    "total_scored_df = pd.concat([total_df.reset_index(drop=True),\n",
    "                             pd.DataFrame(ebm_model.predict_proba(total_df[features])[:, [1]],\n",
    "                                          columns=['model_score']).reset_index(drop=True)],\n",
    "                            axis=1)\n",
    "\n",
    "total_scored_df.head()"
   ]
  },
  {
   "cell_type": "code",
   "execution_count": null,
   "id": "c721e9e5-947b-4ad6-9c66-b6020de7a9be",
   "metadata": {
    "tags": []
   },
   "outputs": [],
   "source": [
    "# Derive each feature's explanation score for each record\n",
    "\n",
    "explanation_scores_df = pd.concat([total_df[['CustomerID']].reset_index(drop=True),\n",
    "                                   pd.DataFrame(ebm_model.predict_and_contrib(total_df[features])[1], \n",
    "                                                columns=ebm_model.feature_names_in_)],\n",
    "                                  axis=1)\n",
    "\n",
    "explanation_scores_df = explanation_scores_df.melt(id_vars='CustomerID', value_name='explanation_score')\n",
    "\n",
    "\n",
    "explanation_scores_df.sort_values('CustomerID').head(len(features)).sort_values(by='explanation_score',\n",
    "                                                                                key=lambda x: abs(x),\n",
    "                                                                                ascending=False).reset_index(drop=True)"
   ]
  },
  {
   "cell_type": "code",
   "execution_count": null,
   "id": "e9b7e4b5-c875-4fbf-af63-f3ba825d8608",
   "metadata": {
    "tags": []
   },
   "outputs": [],
   "source": [
    "# Create a data frame with custom formats and labels for explainability\n",
    "\n",
    "data_values_df = total_df.copy()\n",
    "\n",
    "data_values_df.drop(columns='Churn', inplace=True)\n",
    "\n",
    "data_values_df['Monthly Charges'] = '$' + data_values_df['Monthly Charges'].apply(\"{:,.2f}\".format)\n",
    "data_values_df['Total Charges'] = '$' + data_values_df['Total Charges'].apply(\"{:,.2f}\".format)\n",
    "data_values_df['Tenure'] = data_values_df['Tenure'].apply(\"{:,.0f}\".format)\n",
    "\n",
    "data_values_df = data_values_df.melt(id_vars=['CustomerID'], value_name='data_value')\n",
    "\n",
    "data_values_df['data_value'] = data_values_df['data_value'].str.replace(\"'\", \"\")\n",
    "\n",
    "data_values_df['label'] = data_values_df['variable'].astype(str) + \" = \" + data_values_df['data_value'].astype(str)\n",
    "\n",
    "data_values_df[data_values_df['CustomerID'] == 1].reset_index(drop=True)"
   ]
  },
  {
   "cell_type": "code",
   "execution_count": null,
   "id": "a5b753db-0ee6-4735-bc46-9ae917ecc06c",
   "metadata": {
    "tags": []
   },
   "outputs": [],
   "source": [
    "local_df = pd.merge(data_values_df, explanation_scores_df, on=['CustomerID', 'variable'])\n",
    "\n",
    "local_df['abs_explanation_score'] = abs(local_df['explanation_score'])\n",
    "\n",
    "local_df.head()"
   ]
  },
  {
   "cell_type": "code",
   "execution_count": null,
   "id": "90ffcb63-59e0-4723-9ee5-7ec8ecfab95f",
   "metadata": {
    "tags": []
   },
   "outputs": [],
   "source": [
    "# Select records with highest and lowest scores to illustrate local explainability\n",
    "\n",
    "max_score_customer = total_scored_df.sort_values('model_score', ascending=False).head(1)['CustomerID'].reset_index(drop=True)[0]\n",
    "min_score_customer = total_scored_df.sort_values('model_score', ascending=True).head(1)['CustomerID'].reset_index(drop=True)[0]\n",
    "\n",
    "print(max_score_customer)\n",
    "print(min_score_customer)"
   ]
  },
  {
   "cell_type": "code",
   "execution_count": null,
   "id": "7bb1a75b-6741-4549-b7c9-018a67360f87",
   "metadata": {
    "tags": []
   },
   "outputs": [],
   "source": [
    "def explain_single_prediction(customer_id, num_features=999, plot_height=450):\n",
    "    truth = total_df[total_df['CustomerID'] == customer_id]['Churn'].item()\n",
    "    \n",
    "    temp_df = local_df[local_df['CustomerID'] == customer_id].sort_values('abs_explanation_score', ascending=False)\n",
    "    \n",
    "    if temp_df.shape[0] <= num_features:\n",
    "        subtitle = f\"All {temp_df.shape[0]:,} features\"\n",
    "    else:\n",
    "        subtitle = f\"Top {num_features} features\"\n",
    "        \n",
    "    temp_df = temp_df.head(num_features)\n",
    "    \n",
    "    temp_df['influence'] = np.where(temp_df['explanation_score'] > 0, 'Towards Churn', 'Away from Churn')\n",
    "    \n",
    "    fig = px.bar(temp_df, x='explanation_score', y='label', color='influence',\n",
    "                 color_discrete_map={'Towards Churn': 'red', 'Away from Churn': 'green'},\n",
    "                 orientation='h', height=plot_height,\n",
    "                 labels={'label':'', 'explanation_score': 'Explanation Score', 'influence': 'Influence'},\n",
    "                 title=f\"Local Explanation for CustomerID {customer_id} (actual churn = {truth})<br><sup>{subtitle}</sup>\")\n",
    "    \n",
    "    fig.update_layout(yaxis=dict(autorange='reversed'),\n",
    "                      showlegend=True,\n",
    "                      hovermode=False)\n",
    "    \n",
    "    fig.show()"
   ]
  },
  {
   "cell_type": "markdown",
   "id": "d272f2ca-cee0-46e0-800d-85953af7f721",
   "metadata": {},
   "source": [
    "### Record with Highest Score"
   ]
  },
  {
   "cell_type": "code",
   "execution_count": null,
   "id": "8f218f71-0ae9-4050-bfcd-70ce6af52c2a",
   "metadata": {
    "tags": []
   },
   "outputs": [],
   "source": [
    "explain_single_prediction(customer_id=max_score_customer, plot_height=500)"
   ]
  },
  {
   "cell_type": "markdown",
   "id": "b44a06c1-f6bd-48f0-a3cf-edbd2ca5477f",
   "metadata": {},
   "source": [
    "### Record with Lowest Score"
   ]
  },
  {
   "cell_type": "code",
   "execution_count": null,
   "id": "554282ab-7f81-4b30-96f9-d7f02391e2de",
   "metadata": {
    "tags": []
   },
   "outputs": [],
   "source": [
    "explain_single_prediction(customer_id=min_score_customer, num_features=10, plot_height=400)"
   ]
  },
  {
   "cell_type": "markdown",
   "id": "2f42d555-ef77-4af6-8e43-a40ea9af9256",
   "metadata": {},
   "source": [
    "# Appendix"
   ]
  },
  {
   "cell_type": "markdown",
   "id": "6d965349-3940-4f96-aa17-06105bf9091a",
   "metadata": {},
   "source": [
    "## Session Info for Reproducibility"
   ]
  },
  {
   "cell_type": "code",
   "execution_count": null,
   "id": "e5a9630e-aa94-4758-b16d-c57857027f96",
   "metadata": {
    "tags": []
   },
   "outputs": [],
   "source": [
    "session_info.show()"
   ]
  },
  {
   "cell_type": "markdown",
   "id": "722c20ed-baf6-4df1-8444-8ff683f07fd4",
   "metadata": {},
   "source": [
    "## Custom `gains` Function"
   ]
  },
  {
   "cell_type": "code",
   "execution_count": null,
   "id": "d357bab1-6d19-468b-ae63-2d08faacf531",
   "metadata": {
    "tags": []
   },
   "outputs": [],
   "source": [
    "from pygments import highlight\n",
    "from pygments.lexers import Python2Lexer\n",
    "from pygments.formatters import TerminalFormatter\n",
    "import inspect\n",
    "\n",
    "print(highlight(inspect.getsource(gains), Python2Lexer(), TerminalFormatter()))"
   ]
  }
 ],
 "metadata": {
  "kernelspec": {
   "display_name": "py310",
   "language": "python",
   "name": "py310"
  },
  "language_info": {
   "codemirror_mode": {
    "name": "ipython",
    "version": 3
   },
   "file_extension": ".py",
   "mimetype": "text/x-python",
   "name": "python",
   "nbconvert_exporter": "python",
   "pygments_lexer": "ipython3",
   "version": "3.10.12"
  }
 },
 "nbformat": 4,
 "nbformat_minor": 5
}
